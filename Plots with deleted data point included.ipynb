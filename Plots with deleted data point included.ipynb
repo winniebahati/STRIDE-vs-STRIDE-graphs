{
 "cells": [
  {
   "cell_type": "code",
   "execution_count": 9,
   "id": "5ab7eacd",
   "metadata": {},
   "outputs": [
    {
     "name": "stdout",
     "output_type": "stream",
     "text": [
      "Requirement already satisfied: pingouin in c:\\users\\winni\\anaconda3\\lib\\site-packages (0.5.1)\n",
      "Requirement already satisfied: scipy>=1.7 in c:\\users\\winni\\anaconda3\\lib\\site-packages (from pingouin) (1.7.1)\n",
      "Requirement already satisfied: scikit-learn in c:\\users\\winni\\anaconda3\\lib\\site-packages (from pingouin) (0.24.2)\n",
      "Requirement already satisfied: numpy>=1.19 in c:\\users\\winni\\anaconda3\\lib\\site-packages (from pingouin) (1.20.3)\n",
      "Requirement already satisfied: tabulate in c:\\users\\winni\\anaconda3\\lib\\site-packages (from pingouin) (0.8.9)\n",
      "Requirement already satisfied: outdated in c:\\users\\winni\\anaconda3\\lib\\site-packages (from pingouin) (0.2.1)\n",
      "Requirement already satisfied: statsmodels>=0.13 in c:\\users\\winni\\anaconda3\\lib\\site-packages (from pingouin) (0.13.2)\n",
      "Requirement already satisfied: pandas>=1.0 in c:\\users\\winni\\anaconda3\\lib\\site-packages (from pingouin) (1.3.4)\n",
      "Requirement already satisfied: matplotlib>=3.0.2 in c:\\users\\winni\\anaconda3\\lib\\site-packages (from pingouin) (3.4.3)\n",
      "Requirement already satisfied: pandas-flavor>=0.2.0 in c:\\users\\winni\\anaconda3\\lib\\site-packages (from pingouin) (0.2.0)\n",
      "Requirement already satisfied: seaborn>=0.11 in c:\\users\\winni\\anaconda3\\lib\\site-packages (from pingouin) (0.11.2)\n",
      "Requirement already satisfied: pyparsing>=2.2.1 in c:\\users\\winni\\anaconda3\\lib\\site-packages (from matplotlib>=3.0.2->pingouin) (3.0.4)\n",
      "Requirement already satisfied: python-dateutil>=2.7 in c:\\users\\winni\\anaconda3\\lib\\site-packages (from matplotlib>=3.0.2->pingouin) (2.8.2)\n",
      "Requirement already satisfied: pillow>=6.2.0 in c:\\users\\winni\\anaconda3\\lib\\site-packages (from matplotlib>=3.0.2->pingouin) (8.4.0)\n",
      "Requirement already satisfied: cycler>=0.10 in c:\\users\\winni\\anaconda3\\lib\\site-packages (from matplotlib>=3.0.2->pingouin) (0.10.0)\n",
      "Requirement already satisfied: kiwisolver>=1.0.1 in c:\\users\\winni\\anaconda3\\lib\\site-packages (from matplotlib>=3.0.2->pingouin) (1.3.1)\n",
      "Requirement already satisfied: six in c:\\users\\winni\\anaconda3\\lib\\site-packages (from cycler>=0.10->matplotlib>=3.0.2->pingouin) (1.16.0)\n",
      "Requirement already satisfied: pytz>=2017.3 in c:\\users\\winni\\anaconda3\\lib\\site-packages (from pandas>=1.0->pingouin) (2021.3)\n",
      "Requirement already satisfied: xarray in c:\\users\\winni\\anaconda3\\lib\\site-packages (from pandas-flavor>=0.2.0->pingouin) (2022.3.0)\n",
      "Requirement already satisfied: packaging>=21.3 in c:\\users\\winni\\anaconda3\\lib\\site-packages (from statsmodels>=0.13->pingouin) (21.3)\n",
      "Requirement already satisfied: patsy>=0.5.2 in c:\\users\\winni\\anaconda3\\lib\\site-packages (from statsmodels>=0.13->pingouin) (0.5.2)\n",
      "Requirement already satisfied: requests in c:\\users\\winni\\anaconda3\\lib\\site-packages (from outdated->pingouin) (2.26.0)\n",
      "Requirement already satisfied: littleutils in c:\\users\\winni\\anaconda3\\lib\\site-packages (from outdated->pingouin) (0.2.2)\n",
      "Requirement already satisfied: certifi>=2017.4.17 in c:\\users\\winni\\anaconda3\\lib\\site-packages (from requests->outdated->pingouin) (2021.10.8)\n",
      "Requirement already satisfied: urllib3<1.27,>=1.21.1 in c:\\users\\winni\\anaconda3\\lib\\site-packages (from requests->outdated->pingouin) (1.26.7)\n",
      "Requirement already satisfied: idna<4,>=2.5 in c:\\users\\winni\\anaconda3\\lib\\site-packages (from requests->outdated->pingouin) (3.2)\n",
      "Requirement already satisfied: charset-normalizer~=2.0.0 in c:\\users\\winni\\anaconda3\\lib\\site-packages (from requests->outdated->pingouin) (2.0.4)\n",
      "Requirement already satisfied: threadpoolctl>=2.0.0 in c:\\users\\winni\\anaconda3\\lib\\site-packages (from scikit-learn->pingouin) (2.2.0)\n",
      "Requirement already satisfied: joblib>=0.11 in c:\\users\\winni\\anaconda3\\lib\\site-packages (from scikit-learn->pingouin) (1.1.0)\n",
      "Requirement already satisfied: scipy in c:\\users\\winni\\anaconda3\\lib\\site-packages (1.7.1)\n",
      "Requirement already satisfied: numpy<1.23.0,>=1.16.5 in c:\\users\\winni\\anaconda3\\lib\\site-packages (from scipy) (1.20.3)\n"
     ]
    }
   ],
   "source": [
    "!pip install pingouin\n",
    "!pip install scipy\n",
    "import pandas as pd\n",
    "import matplotlib.pyplot as plt\n",
    "import numpy as np"
   ]
  },
  {
   "cell_type": "markdown",
   "id": "cb45d107",
   "metadata": {},
   "source": [
    "# Productivity Element"
   ]
  },
  {
   "cell_type": "code",
   "execution_count": 2,
   "id": "4d953a9b",
   "metadata": {},
   "outputs": [
    {
     "data": {
      "text/html": [
       "<div>\n",
       "<style scoped>\n",
       "    .dataframe tbody tr th:only-of-type {\n",
       "        vertical-align: middle;\n",
       "    }\n",
       "\n",
       "    .dataframe tbody tr th {\n",
       "        vertical-align: top;\n",
       "    }\n",
       "\n",
       "    .dataframe thead th {\n",
       "        text-align: right;\n",
       "    }\n",
       "</style>\n",
       "<table border=\"1\" class=\"dataframe\">\n",
       "  <thead>\n",
       "    <tr style=\"text-align: right;\">\n",
       "      <th></th>\n",
       "      <th>Submission File(i)</th>\n",
       "      <th>Group</th>\n",
       "      <th>TP(i)</th>\n",
       "      <th>FP(i)</th>\n",
       "      <th>Duration</th>\n",
       "      <th>break</th>\n",
       "      <th>total time</th>\n",
       "      <th>tt in hours</th>\n",
       "      <th>prod(i)</th>\n",
       "      <th>prec(i)</th>\n",
       "      <th>Submission File€</th>\n",
       "      <th>TP(e)</th>\n",
       "      <th>FP(e)</th>\n",
       "      <th>Duration.1</th>\n",
       "      <th>Break</th>\n",
       "      <th>total time(e)</th>\n",
       "      <th>tt/hours(e)</th>\n",
       "      <th>prod(e)</th>\n",
       "      <th>prec(e)</th>\n",
       "    </tr>\n",
       "  </thead>\n",
       "  <tbody>\n",
       "    <tr>\n",
       "      <th>0</th>\n",
       "      <td>R_2zCvmKyl4XTAkQB</td>\n",
       "      <td>B</td>\n",
       "      <td>5.0</td>\n",
       "      <td>3.0</td>\n",
       "      <td>6966.0</td>\n",
       "      <td>0.0</td>\n",
       "      <td>6966.0</td>\n",
       "      <td>1.935000</td>\n",
       "      <td>2.583979</td>\n",
       "      <td>0.625000</td>\n",
       "      <td>R_ThzDR51F1YxOciB</td>\n",
       "      <td>5</td>\n",
       "      <td>8</td>\n",
       "      <td>4325</td>\n",
       "      <td>0</td>\n",
       "      <td>4325</td>\n",
       "      <td>1.201389</td>\n",
       "      <td>4.161850</td>\n",
       "      <td>0.384615</td>\n",
       "    </tr>\n",
       "    <tr>\n",
       "      <th>1</th>\n",
       "      <td>R_bgEpURy1nt5XnwZ</td>\n",
       "      <td>B</td>\n",
       "      <td>10.0</td>\n",
       "      <td>31.0</td>\n",
       "      <td>3328.0</td>\n",
       "      <td>0.0</td>\n",
       "      <td>3328.0</td>\n",
       "      <td>0.924444</td>\n",
       "      <td>10.817308</td>\n",
       "      <td>0.243902</td>\n",
       "      <td>R_2XmNIvKuZWgbbo2</td>\n",
       "      <td>5</td>\n",
       "      <td>5</td>\n",
       "      <td>5956</td>\n",
       "      <td>0</td>\n",
       "      <td>5956</td>\n",
       "      <td>1.654444</td>\n",
       "      <td>3.022163</td>\n",
       "      <td>0.500000</td>\n",
       "    </tr>\n",
       "    <tr>\n",
       "      <th>2</th>\n",
       "      <td>R_3NWoO9EEUqJ98kR</td>\n",
       "      <td>B</td>\n",
       "      <td>1.0</td>\n",
       "      <td>4.0</td>\n",
       "      <td>8487.0</td>\n",
       "      <td>0.0</td>\n",
       "      <td>8487.0</td>\n",
       "      <td>2.357500</td>\n",
       "      <td>0.424178</td>\n",
       "      <td>0.200000</td>\n",
       "      <td>R_2wKo2Lrycgs7Ecz</td>\n",
       "      <td>2</td>\n",
       "      <td>6</td>\n",
       "      <td>6039</td>\n",
       "      <td>0</td>\n",
       "      <td>6039</td>\n",
       "      <td>1.677500</td>\n",
       "      <td>1.192250</td>\n",
       "      <td>0.250000</td>\n",
       "    </tr>\n",
       "    <tr>\n",
       "      <th>3</th>\n",
       "      <td>R_018WngvmAK4w6EF</td>\n",
       "      <td>B</td>\n",
       "      <td>8.0</td>\n",
       "      <td>4.0</td>\n",
       "      <td>7013.0</td>\n",
       "      <td>0.0</td>\n",
       "      <td>7013.0</td>\n",
       "      <td>1.948056</td>\n",
       "      <td>4.106659</td>\n",
       "      <td>0.666667</td>\n",
       "      <td>R_1JRqCFXY7sjmFYu</td>\n",
       "      <td>7</td>\n",
       "      <td>13</td>\n",
       "      <td>5628</td>\n",
       "      <td>0</td>\n",
       "      <td>5628</td>\n",
       "      <td>1.563333</td>\n",
       "      <td>4.477612</td>\n",
       "      <td>0.350000</td>\n",
       "    </tr>\n",
       "    <tr>\n",
       "      <th>4</th>\n",
       "      <td>R_6zkhBW557FVRxIZ</td>\n",
       "      <td>B</td>\n",
       "      <td>6.0</td>\n",
       "      <td>3.0</td>\n",
       "      <td>6870.0</td>\n",
       "      <td>0.0</td>\n",
       "      <td>6870.0</td>\n",
       "      <td>1.908333</td>\n",
       "      <td>3.144105</td>\n",
       "      <td>0.666667</td>\n",
       "      <td>R_30oXBhCY6QZe7r4</td>\n",
       "      <td>6</td>\n",
       "      <td>3</td>\n",
       "      <td>6150</td>\n",
       "      <td>0</td>\n",
       "      <td>6150</td>\n",
       "      <td>1.708333</td>\n",
       "      <td>3.512195</td>\n",
       "      <td>0.666667</td>\n",
       "    </tr>\n",
       "    <tr>\n",
       "      <th>5</th>\n",
       "      <td>R_1r8nczHPvj8IvqN</td>\n",
       "      <td>B</td>\n",
       "      <td>7.0</td>\n",
       "      <td>4.0</td>\n",
       "      <td>6891.0</td>\n",
       "      <td>0.0</td>\n",
       "      <td>6891.0</td>\n",
       "      <td>1.914167</td>\n",
       "      <td>3.656944</td>\n",
       "      <td>0.636364</td>\n",
       "      <td>R_3g8brvESW2AvNew</td>\n",
       "      <td>7</td>\n",
       "      <td>3</td>\n",
       "      <td>6868</td>\n",
       "      <td>0</td>\n",
       "      <td>6868</td>\n",
       "      <td>1.907778</td>\n",
       "      <td>3.669190</td>\n",
       "      <td>0.700000</td>\n",
       "    </tr>\n",
       "    <tr>\n",
       "      <th>6</th>\n",
       "      <td>R_XXJ9scILDGp9Jmx</td>\n",
       "      <td>B</td>\n",
       "      <td>13.0</td>\n",
       "      <td>15.0</td>\n",
       "      <td>7185.0</td>\n",
       "      <td>240.0</td>\n",
       "      <td>6945.0</td>\n",
       "      <td>1.929167</td>\n",
       "      <td>6.738661</td>\n",
       "      <td>0.464286</td>\n",
       "      <td>R_2akr4v7OJ7iAhJk</td>\n",
       "      <td>3</td>\n",
       "      <td>4</td>\n",
       "      <td>6222</td>\n",
       "      <td>0</td>\n",
       "      <td>6222</td>\n",
       "      <td>1.728333</td>\n",
       "      <td>1.735776</td>\n",
       "      <td>0.428571</td>\n",
       "    </tr>\n",
       "    <tr>\n",
       "      <th>7</th>\n",
       "      <td>R_V4lNy7HKvW5AyWJ</td>\n",
       "      <td>B</td>\n",
       "      <td>6.0</td>\n",
       "      <td>5.0</td>\n",
       "      <td>7281.0</td>\n",
       "      <td>0.0</td>\n",
       "      <td>7281.0</td>\n",
       "      <td>2.022500</td>\n",
       "      <td>2.966625</td>\n",
       "      <td>0.545455</td>\n",
       "      <td>R_cTupbWm6RJUlZFn</td>\n",
       "      <td>10</td>\n",
       "      <td>5</td>\n",
       "      <td>8668</td>\n",
       "      <td>5</td>\n",
       "      <td>8663</td>\n",
       "      <td>2.406389</td>\n",
       "      <td>4.155604</td>\n",
       "      <td>0.666667</td>\n",
       "    </tr>\n",
       "    <tr>\n",
       "      <th>8</th>\n",
       "      <td>R_3JgeslKxCetKgsU</td>\n",
       "      <td>B</td>\n",
       "      <td>8.0</td>\n",
       "      <td>5.0</td>\n",
       "      <td>7638.0</td>\n",
       "      <td>120.0</td>\n",
       "      <td>7518.0</td>\n",
       "      <td>2.088333</td>\n",
       "      <td>3.830806</td>\n",
       "      <td>0.615385</td>\n",
       "      <td>R_2sSmuONxddHHbdm</td>\n",
       "      <td>5</td>\n",
       "      <td>5</td>\n",
       "      <td>8976</td>\n",
       "      <td>0</td>\n",
       "      <td>8976</td>\n",
       "      <td>2.493333</td>\n",
       "      <td>2.005348</td>\n",
       "      <td>0.500000</td>\n",
       "    </tr>\n",
       "    <tr>\n",
       "      <th>9</th>\n",
       "      <td>R_2BbWBgkVCmG7Xdm</td>\n",
       "      <td>B</td>\n",
       "      <td>1.0</td>\n",
       "      <td>2.0</td>\n",
       "      <td>7466.0</td>\n",
       "      <td>0.0</td>\n",
       "      <td>7466.0</td>\n",
       "      <td>2.073889</td>\n",
       "      <td>0.482186</td>\n",
       "      <td>0.333333</td>\n",
       "      <td>R_1pKwyOJl3Yi2mvl</td>\n",
       "      <td>10</td>\n",
       "      <td>12</td>\n",
       "      <td>11377</td>\n",
       "      <td>0</td>\n",
       "      <td>11377</td>\n",
       "      <td>3.160278</td>\n",
       "      <td>3.164279</td>\n",
       "      <td>0.454545</td>\n",
       "    </tr>\n",
       "    <tr>\n",
       "      <th>10</th>\n",
       "      <td>NaN</td>\n",
       "      <td>NaN</td>\n",
       "      <td>NaN</td>\n",
       "      <td>NaN</td>\n",
       "      <td>NaN</td>\n",
       "      <td>NaN</td>\n",
       "      <td>NaN</td>\n",
       "      <td>NaN</td>\n",
       "      <td>NaN</td>\n",
       "      <td>NaN</td>\n",
       "      <td>R_1eJITCBeH4EItuz</td>\n",
       "      <td>5</td>\n",
       "      <td>9</td>\n",
       "      <td>19830</td>\n",
       "      <td>100</td>\n",
       "      <td>19730</td>\n",
       "      <td>5.480556</td>\n",
       "      <td>0.912316</td>\n",
       "      <td>0.357143</td>\n",
       "    </tr>\n",
       "    <tr>\n",
       "      <th>11</th>\n",
       "      <td>NaN</td>\n",
       "      <td>NaN</td>\n",
       "      <td>NaN</td>\n",
       "      <td>NaN</td>\n",
       "      <td>NaN</td>\n",
       "      <td>NaN</td>\n",
       "      <td>NaN</td>\n",
       "      <td>NaN</td>\n",
       "      <td>NaN</td>\n",
       "      <td>NaN</td>\n",
       "      <td>R_sGO0M1fHUNAX9ap</td>\n",
       "      <td>7</td>\n",
       "      <td>65</td>\n",
       "      <td>8177</td>\n",
       "      <td>0</td>\n",
       "      <td>8177</td>\n",
       "      <td>2.271389</td>\n",
       "      <td>3.081815</td>\n",
       "      <td>0.097222</td>\n",
       "    </tr>\n",
       "  </tbody>\n",
       "</table>\n",
       "</div>"
      ],
      "text/plain": [
       "   Submission File(i) Group  TP(i)  FP(i)  Duration  break  total time  \\\n",
       "0   R_2zCvmKyl4XTAkQB     B    5.0    3.0    6966.0    0.0      6966.0   \n",
       "1   R_bgEpURy1nt5XnwZ     B   10.0   31.0    3328.0    0.0      3328.0   \n",
       "2   R_3NWoO9EEUqJ98kR     B    1.0    4.0    8487.0    0.0      8487.0   \n",
       "3   R_018WngvmAK4w6EF     B    8.0    4.0    7013.0    0.0      7013.0   \n",
       "4   R_6zkhBW557FVRxIZ     B    6.0    3.0    6870.0    0.0      6870.0   \n",
       "5   R_1r8nczHPvj8IvqN     B    7.0    4.0    6891.0    0.0      6891.0   \n",
       "6   R_XXJ9scILDGp9Jmx     B   13.0   15.0    7185.0  240.0      6945.0   \n",
       "7   R_V4lNy7HKvW5AyWJ     B    6.0    5.0    7281.0    0.0      7281.0   \n",
       "8   R_3JgeslKxCetKgsU     B    8.0    5.0    7638.0  120.0      7518.0   \n",
       "9   R_2BbWBgkVCmG7Xdm     B    1.0    2.0    7466.0    0.0      7466.0   \n",
       "10                NaN   NaN    NaN    NaN       NaN    NaN         NaN   \n",
       "11                NaN   NaN    NaN    NaN       NaN    NaN         NaN   \n",
       "\n",
       "    tt in hours    prod(i)   prec(i)   Submission File€  TP(e)  FP(e)  \\\n",
       "0      1.935000   2.583979  0.625000  R_ThzDR51F1YxOciB      5      8   \n",
       "1      0.924444  10.817308  0.243902  R_2XmNIvKuZWgbbo2      5      5   \n",
       "2      2.357500   0.424178  0.200000  R_2wKo2Lrycgs7Ecz      2      6   \n",
       "3      1.948056   4.106659  0.666667  R_1JRqCFXY7sjmFYu      7     13   \n",
       "4      1.908333   3.144105  0.666667  R_30oXBhCY6QZe7r4      6      3   \n",
       "5      1.914167   3.656944  0.636364  R_3g8brvESW2AvNew      7      3   \n",
       "6      1.929167   6.738661  0.464286  R_2akr4v7OJ7iAhJk      3      4   \n",
       "7      2.022500   2.966625  0.545455  R_cTupbWm6RJUlZFn     10      5   \n",
       "8      2.088333   3.830806  0.615385  R_2sSmuONxddHHbdm      5      5   \n",
       "9      2.073889   0.482186  0.333333  R_1pKwyOJl3Yi2mvl     10     12   \n",
       "10          NaN        NaN       NaN  R_1eJITCBeH4EItuz      5      9   \n",
       "11          NaN        NaN       NaN  R_sGO0M1fHUNAX9ap      7     65   \n",
       "\n",
       "    Duration.1  Break  total time(e)  tt/hours(e)   prod(e)   prec(e)  \n",
       "0         4325      0           4325     1.201389  4.161850  0.384615  \n",
       "1         5956      0           5956     1.654444  3.022163  0.500000  \n",
       "2         6039      0           6039     1.677500  1.192250  0.250000  \n",
       "3         5628      0           5628     1.563333  4.477612  0.350000  \n",
       "4         6150      0           6150     1.708333  3.512195  0.666667  \n",
       "5         6868      0           6868     1.907778  3.669190  0.700000  \n",
       "6         6222      0           6222     1.728333  1.735776  0.428571  \n",
       "7         8668      5           8663     2.406389  4.155604  0.666667  \n",
       "8         8976      0           8976     2.493333  2.005348  0.500000  \n",
       "9        11377      0          11377     3.160278  3.164279  0.454545  \n",
       "10       19830    100          19730     5.480556  0.912316  0.357143  \n",
       "11        8177      0           8177     2.271389  3.081815  0.097222  "
      ]
     },
     "execution_count": 2,
     "metadata": {},
     "output_type": "execute_result"
    }
   ],
   "source": [
    "df = pd.read_excel('final dataset.xlsx')\n",
    "df"
   ]
  },
  {
   "cell_type": "code",
   "execution_count": 3,
   "id": "509f7108",
   "metadata": {},
   "outputs": [
    {
     "data": {
      "text/html": [
       "<div>\n",
       "<style scoped>\n",
       "    .dataframe tbody tr th:only-of-type {\n",
       "        vertical-align: middle;\n",
       "    }\n",
       "\n",
       "    .dataframe tbody tr th {\n",
       "        vertical-align: top;\n",
       "    }\n",
       "\n",
       "    .dataframe thead th {\n",
       "        text-align: right;\n",
       "    }\n",
       "</style>\n",
       "<table border=\"1\" class=\"dataframe\">\n",
       "  <thead>\n",
       "    <tr style=\"text-align: right;\">\n",
       "      <th></th>\n",
       "      <th>Submission File(i)</th>\n",
       "      <th>Group</th>\n",
       "      <th>TP(i)</th>\n",
       "      <th>FP(i)</th>\n",
       "      <th>Duration</th>\n",
       "      <th>break</th>\n",
       "      <th>total time</th>\n",
       "      <th>tt in hours</th>\n",
       "      <th>prod(i)</th>\n",
       "      <th>prec(i)</th>\n",
       "      <th>Submission File€</th>\n",
       "      <th>TP(e)</th>\n",
       "      <th>FP(e)</th>\n",
       "      <th>Duration.1</th>\n",
       "      <th>Break</th>\n",
       "      <th>total time(e)</th>\n",
       "      <th>tt/hours(e)</th>\n",
       "      <th>prod(e)</th>\n",
       "      <th>prec(e)</th>\n",
       "    </tr>\n",
       "  </thead>\n",
       "  <tbody>\n",
       "    <tr>\n",
       "      <th>0</th>\n",
       "      <td>R_2zCvmKyl4XTAkQB</td>\n",
       "      <td>B</td>\n",
       "      <td>5.0</td>\n",
       "      <td>3.0</td>\n",
       "      <td>6966.0</td>\n",
       "      <td>0.0</td>\n",
       "      <td>6966.0</td>\n",
       "      <td>1.935000</td>\n",
       "      <td>2.583979</td>\n",
       "      <td>0.625000</td>\n",
       "      <td>R_ThzDR51F1YxOciB</td>\n",
       "      <td>5</td>\n",
       "      <td>8</td>\n",
       "      <td>4325</td>\n",
       "      <td>0</td>\n",
       "      <td>4325</td>\n",
       "      <td>1.201389</td>\n",
       "      <td>4.161850</td>\n",
       "      <td>0.384615</td>\n",
       "    </tr>\n",
       "    <tr>\n",
       "      <th>1</th>\n",
       "      <td>R_bgEpURy1nt5XnwZ</td>\n",
       "      <td>B</td>\n",
       "      <td>10.0</td>\n",
       "      <td>31.0</td>\n",
       "      <td>3328.0</td>\n",
       "      <td>0.0</td>\n",
       "      <td>3328.0</td>\n",
       "      <td>0.924444</td>\n",
       "      <td>10.817308</td>\n",
       "      <td>0.243902</td>\n",
       "      <td>R_2XmNIvKuZWgbbo2</td>\n",
       "      <td>5</td>\n",
       "      <td>5</td>\n",
       "      <td>5956</td>\n",
       "      <td>0</td>\n",
       "      <td>5956</td>\n",
       "      <td>1.654444</td>\n",
       "      <td>3.022163</td>\n",
       "      <td>0.500000</td>\n",
       "    </tr>\n",
       "    <tr>\n",
       "      <th>2</th>\n",
       "      <td>R_3NWoO9EEUqJ98kR</td>\n",
       "      <td>B</td>\n",
       "      <td>1.0</td>\n",
       "      <td>4.0</td>\n",
       "      <td>8487.0</td>\n",
       "      <td>0.0</td>\n",
       "      <td>8487.0</td>\n",
       "      <td>2.357500</td>\n",
       "      <td>0.424178</td>\n",
       "      <td>0.200000</td>\n",
       "      <td>R_2wKo2Lrycgs7Ecz</td>\n",
       "      <td>2</td>\n",
       "      <td>6</td>\n",
       "      <td>6039</td>\n",
       "      <td>0</td>\n",
       "      <td>6039</td>\n",
       "      <td>1.677500</td>\n",
       "      <td>1.192250</td>\n",
       "      <td>0.250000</td>\n",
       "    </tr>\n",
       "    <tr>\n",
       "      <th>3</th>\n",
       "      <td>R_018WngvmAK4w6EF</td>\n",
       "      <td>B</td>\n",
       "      <td>8.0</td>\n",
       "      <td>4.0</td>\n",
       "      <td>7013.0</td>\n",
       "      <td>0.0</td>\n",
       "      <td>7013.0</td>\n",
       "      <td>1.948056</td>\n",
       "      <td>4.106659</td>\n",
       "      <td>0.666667</td>\n",
       "      <td>R_1JRqCFXY7sjmFYu</td>\n",
       "      <td>7</td>\n",
       "      <td>13</td>\n",
       "      <td>5628</td>\n",
       "      <td>0</td>\n",
       "      <td>5628</td>\n",
       "      <td>1.563333</td>\n",
       "      <td>4.477612</td>\n",
       "      <td>0.350000</td>\n",
       "    </tr>\n",
       "    <tr>\n",
       "      <th>4</th>\n",
       "      <td>R_6zkhBW557FVRxIZ</td>\n",
       "      <td>B</td>\n",
       "      <td>6.0</td>\n",
       "      <td>3.0</td>\n",
       "      <td>6870.0</td>\n",
       "      <td>0.0</td>\n",
       "      <td>6870.0</td>\n",
       "      <td>1.908333</td>\n",
       "      <td>3.144105</td>\n",
       "      <td>0.666667</td>\n",
       "      <td>R_30oXBhCY6QZe7r4</td>\n",
       "      <td>6</td>\n",
       "      <td>3</td>\n",
       "      <td>6150</td>\n",
       "      <td>0</td>\n",
       "      <td>6150</td>\n",
       "      <td>1.708333</td>\n",
       "      <td>3.512195</td>\n",
       "      <td>0.666667</td>\n",
       "    </tr>\n",
       "    <tr>\n",
       "      <th>5</th>\n",
       "      <td>R_1r8nczHPvj8IvqN</td>\n",
       "      <td>B</td>\n",
       "      <td>7.0</td>\n",
       "      <td>4.0</td>\n",
       "      <td>6891.0</td>\n",
       "      <td>0.0</td>\n",
       "      <td>6891.0</td>\n",
       "      <td>1.914167</td>\n",
       "      <td>3.656944</td>\n",
       "      <td>0.636364</td>\n",
       "      <td>R_3g8brvESW2AvNew</td>\n",
       "      <td>7</td>\n",
       "      <td>3</td>\n",
       "      <td>6868</td>\n",
       "      <td>0</td>\n",
       "      <td>6868</td>\n",
       "      <td>1.907778</td>\n",
       "      <td>3.669190</td>\n",
       "      <td>0.700000</td>\n",
       "    </tr>\n",
       "    <tr>\n",
       "      <th>6</th>\n",
       "      <td>R_XXJ9scILDGp9Jmx</td>\n",
       "      <td>B</td>\n",
       "      <td>13.0</td>\n",
       "      <td>15.0</td>\n",
       "      <td>7185.0</td>\n",
       "      <td>240.0</td>\n",
       "      <td>6945.0</td>\n",
       "      <td>1.929167</td>\n",
       "      <td>6.738661</td>\n",
       "      <td>0.464286</td>\n",
       "      <td>R_2akr4v7OJ7iAhJk</td>\n",
       "      <td>3</td>\n",
       "      <td>4</td>\n",
       "      <td>6222</td>\n",
       "      <td>0</td>\n",
       "      <td>6222</td>\n",
       "      <td>1.728333</td>\n",
       "      <td>1.735776</td>\n",
       "      <td>0.428571</td>\n",
       "    </tr>\n",
       "    <tr>\n",
       "      <th>7</th>\n",
       "      <td>R_V4lNy7HKvW5AyWJ</td>\n",
       "      <td>B</td>\n",
       "      <td>6.0</td>\n",
       "      <td>5.0</td>\n",
       "      <td>7281.0</td>\n",
       "      <td>0.0</td>\n",
       "      <td>7281.0</td>\n",
       "      <td>2.022500</td>\n",
       "      <td>2.966625</td>\n",
       "      <td>0.545455</td>\n",
       "      <td>R_cTupbWm6RJUlZFn</td>\n",
       "      <td>10</td>\n",
       "      <td>5</td>\n",
       "      <td>8668</td>\n",
       "      <td>5</td>\n",
       "      <td>8663</td>\n",
       "      <td>2.406389</td>\n",
       "      <td>4.155604</td>\n",
       "      <td>0.666667</td>\n",
       "    </tr>\n",
       "    <tr>\n",
       "      <th>8</th>\n",
       "      <td>R_3JgeslKxCetKgsU</td>\n",
       "      <td>B</td>\n",
       "      <td>8.0</td>\n",
       "      <td>5.0</td>\n",
       "      <td>7638.0</td>\n",
       "      <td>120.0</td>\n",
       "      <td>7518.0</td>\n",
       "      <td>2.088333</td>\n",
       "      <td>3.830806</td>\n",
       "      <td>0.615385</td>\n",
       "      <td>R_2sSmuONxddHHbdm</td>\n",
       "      <td>5</td>\n",
       "      <td>5</td>\n",
       "      <td>8976</td>\n",
       "      <td>0</td>\n",
       "      <td>8976</td>\n",
       "      <td>2.493333</td>\n",
       "      <td>2.005348</td>\n",
       "      <td>0.500000</td>\n",
       "    </tr>\n",
       "    <tr>\n",
       "      <th>9</th>\n",
       "      <td>R_2BbWBgkVCmG7Xdm</td>\n",
       "      <td>B</td>\n",
       "      <td>1.0</td>\n",
       "      <td>2.0</td>\n",
       "      <td>7466.0</td>\n",
       "      <td>0.0</td>\n",
       "      <td>7466.0</td>\n",
       "      <td>2.073889</td>\n",
       "      <td>0.482186</td>\n",
       "      <td>0.333333</td>\n",
       "      <td>R_1pKwyOJl3Yi2mvl</td>\n",
       "      <td>10</td>\n",
       "      <td>12</td>\n",
       "      <td>11377</td>\n",
       "      <td>0</td>\n",
       "      <td>11377</td>\n",
       "      <td>3.160278</td>\n",
       "      <td>3.164279</td>\n",
       "      <td>0.454545</td>\n",
       "    </tr>\n",
       "    <tr>\n",
       "      <th>10</th>\n",
       "      <td>0</td>\n",
       "      <td>0</td>\n",
       "      <td>0.0</td>\n",
       "      <td>0.0</td>\n",
       "      <td>0.0</td>\n",
       "      <td>0.0</td>\n",
       "      <td>0.0</td>\n",
       "      <td>0.000000</td>\n",
       "      <td>0.000000</td>\n",
       "      <td>0.000000</td>\n",
       "      <td>R_1eJITCBeH4EItuz</td>\n",
       "      <td>5</td>\n",
       "      <td>9</td>\n",
       "      <td>19830</td>\n",
       "      <td>100</td>\n",
       "      <td>19730</td>\n",
       "      <td>5.480556</td>\n",
       "      <td>0.912316</td>\n",
       "      <td>0.357143</td>\n",
       "    </tr>\n",
       "    <tr>\n",
       "      <th>11</th>\n",
       "      <td>0</td>\n",
       "      <td>0</td>\n",
       "      <td>0.0</td>\n",
       "      <td>0.0</td>\n",
       "      <td>0.0</td>\n",
       "      <td>0.0</td>\n",
       "      <td>0.0</td>\n",
       "      <td>0.000000</td>\n",
       "      <td>0.000000</td>\n",
       "      <td>0.000000</td>\n",
       "      <td>R_sGO0M1fHUNAX9ap</td>\n",
       "      <td>7</td>\n",
       "      <td>65</td>\n",
       "      <td>8177</td>\n",
       "      <td>0</td>\n",
       "      <td>8177</td>\n",
       "      <td>2.271389</td>\n",
       "      <td>3.081815</td>\n",
       "      <td>0.097222</td>\n",
       "    </tr>\n",
       "  </tbody>\n",
       "</table>\n",
       "</div>"
      ],
      "text/plain": [
       "   Submission File(i) Group  TP(i)  FP(i)  Duration  break  total time  \\\n",
       "0   R_2zCvmKyl4XTAkQB     B    5.0    3.0    6966.0    0.0      6966.0   \n",
       "1   R_bgEpURy1nt5XnwZ     B   10.0   31.0    3328.0    0.0      3328.0   \n",
       "2   R_3NWoO9EEUqJ98kR     B    1.0    4.0    8487.0    0.0      8487.0   \n",
       "3   R_018WngvmAK4w6EF     B    8.0    4.0    7013.0    0.0      7013.0   \n",
       "4   R_6zkhBW557FVRxIZ     B    6.0    3.0    6870.0    0.0      6870.0   \n",
       "5   R_1r8nczHPvj8IvqN     B    7.0    4.0    6891.0    0.0      6891.0   \n",
       "6   R_XXJ9scILDGp9Jmx     B   13.0   15.0    7185.0  240.0      6945.0   \n",
       "7   R_V4lNy7HKvW5AyWJ     B    6.0    5.0    7281.0    0.0      7281.0   \n",
       "8   R_3JgeslKxCetKgsU     B    8.0    5.0    7638.0  120.0      7518.0   \n",
       "9   R_2BbWBgkVCmG7Xdm     B    1.0    2.0    7466.0    0.0      7466.0   \n",
       "10                  0     0    0.0    0.0       0.0    0.0         0.0   \n",
       "11                  0     0    0.0    0.0       0.0    0.0         0.0   \n",
       "\n",
       "    tt in hours    prod(i)   prec(i)   Submission File€  TP(e)  FP(e)  \\\n",
       "0      1.935000   2.583979  0.625000  R_ThzDR51F1YxOciB      5      8   \n",
       "1      0.924444  10.817308  0.243902  R_2XmNIvKuZWgbbo2      5      5   \n",
       "2      2.357500   0.424178  0.200000  R_2wKo2Lrycgs7Ecz      2      6   \n",
       "3      1.948056   4.106659  0.666667  R_1JRqCFXY7sjmFYu      7     13   \n",
       "4      1.908333   3.144105  0.666667  R_30oXBhCY6QZe7r4      6      3   \n",
       "5      1.914167   3.656944  0.636364  R_3g8brvESW2AvNew      7      3   \n",
       "6      1.929167   6.738661  0.464286  R_2akr4v7OJ7iAhJk      3      4   \n",
       "7      2.022500   2.966625  0.545455  R_cTupbWm6RJUlZFn     10      5   \n",
       "8      2.088333   3.830806  0.615385  R_2sSmuONxddHHbdm      5      5   \n",
       "9      2.073889   0.482186  0.333333  R_1pKwyOJl3Yi2mvl     10     12   \n",
       "10     0.000000   0.000000  0.000000  R_1eJITCBeH4EItuz      5      9   \n",
       "11     0.000000   0.000000  0.000000  R_sGO0M1fHUNAX9ap      7     65   \n",
       "\n",
       "    Duration.1  Break  total time(e)  tt/hours(e)   prod(e)   prec(e)  \n",
       "0         4325      0           4325     1.201389  4.161850  0.384615  \n",
       "1         5956      0           5956     1.654444  3.022163  0.500000  \n",
       "2         6039      0           6039     1.677500  1.192250  0.250000  \n",
       "3         5628      0           5628     1.563333  4.477612  0.350000  \n",
       "4         6150      0           6150     1.708333  3.512195  0.666667  \n",
       "5         6868      0           6868     1.907778  3.669190  0.700000  \n",
       "6         6222      0           6222     1.728333  1.735776  0.428571  \n",
       "7         8668      5           8663     2.406389  4.155604  0.666667  \n",
       "8         8976      0           8976     2.493333  2.005348  0.500000  \n",
       "9        11377      0          11377     3.160278  3.164279  0.454545  \n",
       "10       19830    100          19730     5.480556  0.912316  0.357143  \n",
       "11        8177      0           8177     2.271389  3.081815  0.097222  "
      ]
     },
     "execution_count": 3,
     "metadata": {},
     "output_type": "execute_result"
    }
   ],
   "source": [
    "df.fillna(0,inplace=True)\n",
    "df"
   ]
  },
  {
   "cell_type": "code",
   "execution_count": 8,
   "id": "c00675e4",
   "metadata": {},
   "outputs": [
    {
     "data": {
      "text/plain": [
       "<AxesSubplot:>"
      ]
     },
     "execution_count": 8,
     "metadata": {},
     "output_type": "execute_result"
    },
    {
     "data": {
      "image/png": "[encoded data removed]",
      "text/plain": [
       "<Figure size 432x288 with 1 Axes>"
      ]
     },
     "metadata": {
      "needs_background": "light"
     },
     "output_type": "display_data"
    }
   ],
   "source": [
    "df['prod(e)'].plot(kind='bar', color= 'black', ylim=(0,12))"
   ]
  },
  {
   "cell_type": "markdown",
   "id": "aad74a46",
   "metadata": {},
   "source": [
    "# Productivity Interaction"
   ]
  },
  {
   "cell_type": "code",
   "execution_count": 24,
   "id": "eef09a1b",
   "metadata": {},
   "outputs": [
    {
     "data": {
      "text/plain": [
       "<AxesSubplot:>"
      ]
     },
     "execution_count": 24,
     "metadata": {},
     "output_type": "execute_result"
    },
    {
     "data": {
      "image/png": "[encoded data removed]",
      "text/plain": [
       "<Figure size 432x288 with 1 Axes>"
      ]
     },
     "metadata": {
      "needs_background": "light"
     },
     "output_type": "display_data"
    }
   ],
   "source": [
    "df['prod(i)'].plot(kind='bar', color= 'black', ylim=(0,12))\n"
   ]
  },
  {
   "cell_type": "markdown",
   "id": "3d223c27",
   "metadata": {},
   "source": [
    "# Threat categories (element)"
   ]
  },
  {
   "cell_type": "code",
   "execution_count": 56,
   "id": "d1f88156",
   "metadata": {},
   "outputs": [
    {
     "data": {
      "text/html": [
       "<div>\n",
       "<style scoped>\n",
       "    .dataframe tbody tr th:only-of-type {\n",
       "        vertical-align: middle;\n",
       "    }\n",
       "\n",
       "    .dataframe tbody tr th {\n",
       "        vertical-align: top;\n",
       "    }\n",
       "\n",
       "    .dataframe thead th {\n",
       "        text-align: right;\n",
       "    }\n",
       "</style>\n",
       "<table border=\"1\" class=\"dataframe\">\n",
       "  <thead>\n",
       "    <tr style=\"text-align: right;\">\n",
       "      <th></th>\n",
       "      <th>Category</th>\n",
       "      <th>TP(i)</th>\n",
       "      <th>FP(i)</th>\n",
       "      <th>TP(e)</th>\n",
       "      <th>FP(e)</th>\n",
       "      <th>prec(i)</th>\n",
       "      <th>prec(e)</th>\n",
       "    </tr>\n",
       "  </thead>\n",
       "  <tbody>\n",
       "    <tr>\n",
       "      <th>0</th>\n",
       "      <td>S</td>\n",
       "      <td>13.0</td>\n",
       "      <td>14.0</td>\n",
       "      <td>11.0</td>\n",
       "      <td>17.0</td>\n",
       "      <td>0.481481</td>\n",
       "      <td>0.392857</td>\n",
       "    </tr>\n",
       "    <tr>\n",
       "      <th>1</th>\n",
       "      <td>T</td>\n",
       "      <td>9.0</td>\n",
       "      <td>11.0</td>\n",
       "      <td>8.0</td>\n",
       "      <td>29.0</td>\n",
       "      <td>0.450000</td>\n",
       "      <td>0.216216</td>\n",
       "    </tr>\n",
       "    <tr>\n",
       "      <th>2</th>\n",
       "      <td>R</td>\n",
       "      <td>4.0</td>\n",
       "      <td>11.0</td>\n",
       "      <td>3.0</td>\n",
       "      <td>26.0</td>\n",
       "      <td>0.266667</td>\n",
       "      <td>0.103448</td>\n",
       "    </tr>\n",
       "    <tr>\n",
       "      <th>3</th>\n",
       "      <td>I</td>\n",
       "      <td>18.0</td>\n",
       "      <td>16.0</td>\n",
       "      <td>18.0</td>\n",
       "      <td>19.0</td>\n",
       "      <td>0.529412</td>\n",
       "      <td>0.486486</td>\n",
       "    </tr>\n",
       "    <tr>\n",
       "      <th>4</th>\n",
       "      <td>D</td>\n",
       "      <td>23.0</td>\n",
       "      <td>12.0</td>\n",
       "      <td>15.0</td>\n",
       "      <td>21.0</td>\n",
       "      <td>0.657143</td>\n",
       "      <td>0.416667</td>\n",
       "    </tr>\n",
       "    <tr>\n",
       "      <th>5</th>\n",
       "      <td>E</td>\n",
       "      <td>5.0</td>\n",
       "      <td>7.0</td>\n",
       "      <td>3.0</td>\n",
       "      <td>12.0</td>\n",
       "      <td>0.416667</td>\n",
       "      <td>0.200000</td>\n",
       "    </tr>\n",
       "    <tr>\n",
       "      <th>6</th>\n",
       "      <td>Group Av</td>\n",
       "      <td>NaN</td>\n",
       "      <td>NaN</td>\n",
       "      <td>NaN</td>\n",
       "      <td>NaN</td>\n",
       "      <td>0.466895</td>\n",
       "      <td>0.302612</td>\n",
       "    </tr>\n",
       "  </tbody>\n",
       "</table>\n",
       "</div>"
      ],
      "text/plain": [
       "   Category  TP(i)  FP(i)  TP(e)  FP(e)   prec(i)   prec(e)\n",
       "0         S   13.0   14.0   11.0   17.0  0.481481  0.392857\n",
       "1         T    9.0   11.0    8.0   29.0  0.450000  0.216216\n",
       "2         R    4.0   11.0    3.0   26.0  0.266667  0.103448\n",
       "3         I   18.0   16.0   18.0   19.0  0.529412  0.486486\n",
       "4         D   23.0   12.0   15.0   21.0  0.657143  0.416667\n",
       "5         E    5.0    7.0    3.0   12.0  0.416667  0.200000\n",
       "6  Group Av    NaN    NaN    NaN    NaN  0.466895  0.302612"
      ]
     },
     "execution_count": 56,
     "metadata": {},
     "output_type": "execute_result"
    }
   ],
   "source": [
    "df1= pd.read_excel('subplots threats.xlsx')\n",
    "df1"
   ]
  },
  {
   "cell_type": "code",
   "execution_count": 57,
   "id": "df768239",
   "metadata": {},
   "outputs": [
    {
     "data": {
      "text/html": [
       "<div>\n",
       "<style scoped>\n",
       "    .dataframe tbody tr th:only-of-type {\n",
       "        vertical-align: middle;\n",
       "    }\n",
       "\n",
       "    .dataframe tbody tr th {\n",
       "        vertical-align: top;\n",
       "    }\n",
       "\n",
       "    .dataframe thead th {\n",
       "        text-align: right;\n",
       "    }\n",
       "</style>\n",
       "<table border=\"1\" class=\"dataframe\">\n",
       "  <thead>\n",
       "    <tr style=\"text-align: right;\">\n",
       "      <th></th>\n",
       "      <th>Category</th>\n",
       "      <th>TP(i)</th>\n",
       "      <th>FP(i)</th>\n",
       "      <th>TP(e)</th>\n",
       "      <th>FP(e)</th>\n",
       "      <th>prec(i)</th>\n",
       "      <th>prec(e)</th>\n",
       "    </tr>\n",
       "  </thead>\n",
       "  <tbody>\n",
       "    <tr>\n",
       "      <th>0</th>\n",
       "      <td>S</td>\n",
       "      <td>13.0</td>\n",
       "      <td>14.0</td>\n",
       "      <td>11.0</td>\n",
       "      <td>17.0</td>\n",
       "      <td>0.481481</td>\n",
       "      <td>0.392857</td>\n",
       "    </tr>\n",
       "    <tr>\n",
       "      <th>1</th>\n",
       "      <td>T</td>\n",
       "      <td>9.0</td>\n",
       "      <td>11.0</td>\n",
       "      <td>8.0</td>\n",
       "      <td>29.0</td>\n",
       "      <td>0.450000</td>\n",
       "      <td>0.216216</td>\n",
       "    </tr>\n",
       "    <tr>\n",
       "      <th>2</th>\n",
       "      <td>R</td>\n",
       "      <td>4.0</td>\n",
       "      <td>11.0</td>\n",
       "      <td>3.0</td>\n",
       "      <td>26.0</td>\n",
       "      <td>0.266667</td>\n",
       "      <td>0.103448</td>\n",
       "    </tr>\n",
       "    <tr>\n",
       "      <th>3</th>\n",
       "      <td>I</td>\n",
       "      <td>18.0</td>\n",
       "      <td>16.0</td>\n",
       "      <td>18.0</td>\n",
       "      <td>19.0</td>\n",
       "      <td>0.529412</td>\n",
       "      <td>0.486486</td>\n",
       "    </tr>\n",
       "    <tr>\n",
       "      <th>4</th>\n",
       "      <td>D</td>\n",
       "      <td>23.0</td>\n",
       "      <td>12.0</td>\n",
       "      <td>15.0</td>\n",
       "      <td>21.0</td>\n",
       "      <td>0.657143</td>\n",
       "      <td>0.416667</td>\n",
       "    </tr>\n",
       "    <tr>\n",
       "      <th>5</th>\n",
       "      <td>E</td>\n",
       "      <td>5.0</td>\n",
       "      <td>7.0</td>\n",
       "      <td>3.0</td>\n",
       "      <td>12.0</td>\n",
       "      <td>0.416667</td>\n",
       "      <td>0.200000</td>\n",
       "    </tr>\n",
       "    <tr>\n",
       "      <th>6</th>\n",
       "      <td>Group Av</td>\n",
       "      <td>0.0</td>\n",
       "      <td>0.0</td>\n",
       "      <td>0.0</td>\n",
       "      <td>0.0</td>\n",
       "      <td>0.466895</td>\n",
       "      <td>0.302612</td>\n",
       "    </tr>\n",
       "  </tbody>\n",
       "</table>\n",
       "</div>"
      ],
      "text/plain": [
       "   Category  TP(i)  FP(i)  TP(e)  FP(e)   prec(i)   prec(e)\n",
       "0         S   13.0   14.0   11.0   17.0  0.481481  0.392857\n",
       "1         T    9.0   11.0    8.0   29.0  0.450000  0.216216\n",
       "2         R    4.0   11.0    3.0   26.0  0.266667  0.103448\n",
       "3         I   18.0   16.0   18.0   19.0  0.529412  0.486486\n",
       "4         D   23.0   12.0   15.0   21.0  0.657143  0.416667\n",
       "5         E    5.0    7.0    3.0   12.0  0.416667  0.200000\n",
       "6  Group Av    0.0    0.0    0.0    0.0  0.466895  0.302612"
      ]
     },
     "execution_count": 57,
     "metadata": {},
     "output_type": "execute_result"
    }
   ],
   "source": [
    "df1.fillna(0,inplace=True)\n",
    "df1"
   ]
  },
  {
   "cell_type": "code",
   "execution_count": 34,
   "id": "2c89983f",
   "metadata": {},
   "outputs": [
    {
     "name": "stderr",
     "output_type": "stream",
     "text": [
      "C:\\Users\\winni\\AppData\\Local\\Temp/ipykernel_3524/3517284662.py:1: FutureWarning: Indexing with multiple keys (implicitly converted to a tuple of keys) will be deprecated, use a list instead.\n",
      "  df1.groupby('Threat')['TP(e)','FP(e)'].plot(kind='bar', ylim=(0, 30), figsize=(1, 1), color=(\"black\", \"grey\"), legend=False)\n"
     ]
    },
    {
     "data": {
      "text/plain": [
       "Threat\n",
       "D    AxesSubplot(0.125,0.125;0.775x0.755)\n",
       "E    AxesSubplot(0.125,0.125;0.775x0.755)\n",
       "I    AxesSubplot(0.125,0.125;0.775x0.755)\n",
       "R    AxesSubplot(0.125,0.125;0.775x0.755)\n",
       "S    AxesSubplot(0.125,0.125;0.775x0.755)\n",
       "T    AxesSubplot(0.125,0.125;0.775x0.755)\n",
       "dtype: object"
      ]
     },
     "execution_count": 34,
     "metadata": {},
     "output_type": "execute_result"
    },
    {
     "data": {
      "image/png": "[encoded data removed]",
      "text/plain": [
       "<Figure size 72x72 with 1 Axes>"
      ]
     },
     "metadata": {
      "needs_background": "light"
     },
     "output_type": "display_data"
    },
    {
     "data": {
      "image/png": "[encoded data removed]",
      "text/plain": [
       "<Figure size 72x72 with 1 Axes>"
      ]
     },
     "metadata": {
      "needs_background": "light"
     },
     "output_type": "display_data"
    },
    {
     "data": {
      "image/png": "[encoded data removed]",
      "text/plain": [
       "<Figure size 72x72 with 1 Axes>"
      ]
     },
     "metadata": {
      "needs_background": "light"
     },
     "output_type": "display_data"
    },
    {
     "data": {
      "image/png": "[encoded data removed]",
      "text/plain": [
       "<Figure size 72x72 with 1 Axes>"
      ]
     },
     "metadata": {
      "needs_background": "light"
     },
     "output_type": "display_data"
    },
    {
     "data": {
      "image/png": "[encoded data removed]",
      "text/plain": [
       "<Figure size 72x72 with 1 Axes>"
      ]
     },
     "metadata": {
      "needs_background": "light"
     },
     "output_type": "display_data"
    },
    {
     "data": {
      "image/png": "[encoded data removed]",
      "text/plain": [
       "<Figure size 72x72 with 1 Axes>"
      ]
     },
     "metadata": {
      "needs_background": "light"
     },
     "output_type": "display_data"
    }
   ],
   "source": [
    "df1.groupby('Threat')['TP(e)','FP(e)'].plot(kind='bar', ylim=(0, 30), figsize=(1, 1), color=(\"black\", \"grey\"), legend=False)\n"
   ]
  },
  {
   "cell_type": "markdown",
   "id": "4d341d54",
   "metadata": {},
   "source": [
    "# Threat categories (interaction)"
   ]
  },
  {
   "cell_type": "code",
   "execution_count": 39,
   "id": "548eaabe",
   "metadata": {},
   "outputs": [
    {
     "name": "stderr",
     "output_type": "stream",
     "text": [
      "C:\\Users\\winni\\AppData\\Local\\Temp/ipykernel_3524/263833790.py:1: FutureWarning: Indexing with multiple keys (implicitly converted to a tuple of keys) will be deprecated, use a list instead.\n",
      "  df1.groupby('Threat')['TP(i)','FP(i)'].plot(kind='bar', ylim=(0, 30), figsize=(1,1), color=(\"black\", \"grey\"), legend=False)\n"
     ]
    },
    {
     "data": {
      "text/plain": [
       "Threat\n",
       "D    AxesSubplot(0.125,0.125;0.775x0.755)\n",
       "E    AxesSubplot(0.125,0.125;0.775x0.755)\n",
       "I    AxesSubplot(0.125,0.125;0.775x0.755)\n",
       "R    AxesSubplot(0.125,0.125;0.775x0.755)\n",
       "S    AxesSubplot(0.125,0.125;0.775x0.755)\n",
       "T    AxesSubplot(0.125,0.125;0.775x0.755)\n",
       "dtype: object"
      ]
     },
     "execution_count": 39,
     "metadata": {},
     "output_type": "execute_result"
    },
    {
     "data": {
      "image/png": "[encoded data removed]",
      "text/plain": [
       "<Figure size 72x72 with 1 Axes>"
      ]
     },
     "metadata": {
      "needs_background": "light"
     },
     "output_type": "display_data"
    },
    {
     "data": {
      "image/png": "[encoded data removed]",
      "text/plain": [
       "<Figure size 72x72 with 1 Axes>"
      ]
     },
     "metadata": {
      "needs_background": "light"
     },
     "output_type": "display_data"
    },
    {
     "data": {
      "image/png": "[encoded data removed]",
      "text/plain": [
       "<Figure size 72x72 with 1 Axes>"
      ]
     },
     "metadata": {
      "needs_background": "light"
     },
     "output_type": "display_data"
    },
    {
     "data": {
      "image/png": "[encoded data removed]",
      "text/plain": [
       "<Figure size 72x72 with 1 Axes>"
      ]
     },
     "metadata": {
      "needs_background": "light"
     },
     "output_type": "display_data"
    },
    {
     "data": {
      "image/png": "[encoded data removed]",
      "text/plain": [
       "<Figure size 72x72 with 1 Axes>"
      ]
     },
     "metadata": {
      "needs_background": "light"
     },
     "output_type": "display_data"
    },
    {
     "data": {
      "image/png": "[encoded data removed]",
      "text/plain": [
       "<Figure size 72x72 with 1 Axes>"
      ]
     },
     "metadata": {
      "needs_background": "light"
     },
     "output_type": "display_data"
    }
   ],
   "source": [
    "df1.groupby('Threat')['TP(i)','FP(i)'].plot(kind='bar', ylim=(0, 30), figsize=(1,1), color=(\"black\", \"grey\"), legend=False)\n",
    "#plt.xticks(df.index,df['Threat'].values)"
   ]
  },
  {
   "cell_type": "code",
   "execution_count": null,
   "id": "2b5935db",
   "metadata": {},
   "outputs": [],
   "source": []
  },
  {
   "cell_type": "markdown",
   "id": "1aeb9359",
   "metadata": {},
   "source": [
    "# Mann Whitney TPs 2022"
   ]
  },
  {
   "cell_type": "code",
   "execution_count": 10,
   "id": "20a8b0d8",
   "metadata": {},
   "outputs": [
    {
     "data": {
      "text/plain": [
       "MannwhitneyuResult(statistic=68.5, pvalue=0.861260506324369)"
      ]
     },
     "execution_count": 10,
     "metadata": {},
     "output_type": "execute_result"
    }
   ],
   "source": [
    "from scipy.stats import mannwhitneyu\n",
    "mannwhitneyu(df['TP(i)'], df['TP(e)'])"
   ]
  },
  {
   "cell_type": "code",
   "execution_count": null,
   "id": "b2c5feab",
   "metadata": {},
   "outputs": [],
   "source": []
  },
  {
   "cell_type": "markdown",
   "id": "31364ec6",
   "metadata": {},
   "source": [
    "# Mann Whitney FPs 2022"
   ]
  },
  {
   "cell_type": "code",
   "execution_count": 11,
   "id": "848f2736",
   "metadata": {},
   "outputs": [
    {
     "data": {
      "text/plain": [
       "MannwhitneyuResult(statistic=40.5, pvalue=0.07092540498493397)"
      ]
     },
     "execution_count": 11,
     "metadata": {},
     "output_type": "execute_result"
    }
   ],
   "source": [
    "from scipy.stats import mannwhitneyu\n",
    "mannwhitneyu(df['FP(i)'], df['FP(e)'])"
   ]
  },
  {
   "cell_type": "code",
   "execution_count": null,
   "id": "d825b024",
   "metadata": {},
   "outputs": [],
   "source": []
  },
  {
   "cell_type": "markdown",
   "id": "89affd89",
   "metadata": {},
   "source": [
    "# Mann whitney productivity 2022"
   ]
  },
  {
   "cell_type": "code",
   "execution_count": 12,
   "id": "39ce0adf",
   "metadata": {},
   "outputs": [
    {
     "data": {
      "text/plain": [
       "MannwhitneyuResult(statistic=64.0, pvalue=0.6649371351012803)"
      ]
     },
     "execution_count": 12,
     "metadata": {},
     "output_type": "execute_result"
    }
   ],
   "source": [
    "from scipy.stats import mannwhitneyu\n",
    "mannwhitneyu(df['prod(i)'], df['prod(e)'])"
   ]
  },
  {
   "cell_type": "code",
   "execution_count": null,
   "id": "2c178457",
   "metadata": {},
   "outputs": [],
   "source": []
  },
  {
   "cell_type": "markdown",
   "id": "c5bf0ac8",
   "metadata": {},
   "source": [
    "# Mann whitney Precision 2022"
   ]
  },
  {
   "cell_type": "code",
   "execution_count": 16,
   "id": "680137c8",
   "metadata": {},
   "outputs": [
    {
     "data": {
      "text/html": [
       "<div>\n",
       "<style scoped>\n",
       "    .dataframe tbody tr th:only-of-type {\n",
       "        vertical-align: middle;\n",
       "    }\n",
       "\n",
       "    .dataframe tbody tr th {\n",
       "        vertical-align: top;\n",
       "    }\n",
       "\n",
       "    .dataframe thead th {\n",
       "        text-align: right;\n",
       "    }\n",
       "</style>\n",
       "<table border=\"1\" class=\"dataframe\">\n",
       "  <thead>\n",
       "    <tr style=\"text-align: right;\">\n",
       "      <th></th>\n",
       "      <th>U-val</th>\n",
       "      <th>alternative</th>\n",
       "      <th>p-val</th>\n",
       "      <th>RBC</th>\n",
       "      <th>CLES</th>\n",
       "    </tr>\n",
       "  </thead>\n",
       "  <tbody>\n",
       "    <tr>\n",
       "      <th>MWU</th>\n",
       "      <td>67.0</td>\n",
       "      <td>two-sided</td>\n",
       "      <td>0.794487</td>\n",
       "      <td>0.069444</td>\n",
       "      <td>0.465278</td>\n",
       "    </tr>\n",
       "  </tbody>\n",
       "</table>\n",
       "</div>"
      ],
      "text/plain": [
       "     U-val alternative     p-val       RBC      CLES\n",
       "MWU   67.0   two-sided  0.794487  0.069444  0.465278"
      ]
     },
     "execution_count": 16,
     "metadata": {},
     "output_type": "execute_result"
    }
   ],
   "source": [
    "from pingouin import mwu\n",
    "mwu(df['prec(i)'], df['prec(e)'])"
   ]
  },
  {
   "cell_type": "code",
   "execution_count": null,
   "id": "80720c0e",
   "metadata": {},
   "outputs": [],
   "source": []
  },
  {
   "cell_type": "markdown",
   "id": "dae81628",
   "metadata": {},
   "source": [
    "# 2017 + 2022 Mann W U precision"
   ]
  },
  {
   "cell_type": "code",
   "execution_count": 20,
   "id": "39ea1607",
   "metadata": {},
   "outputs": [
    {
     "data": {
      "text/html": [
       "<div>\n",
       "<style scoped>\n",
       "    .dataframe tbody tr th:only-of-type {\n",
       "        vertical-align: middle;\n",
       "    }\n",
       "\n",
       "    .dataframe tbody tr th {\n",
       "        vertical-align: top;\n",
       "    }\n",
       "\n",
       "    .dataframe thead th {\n",
       "        text-align: right;\n",
       "    }\n",
       "</style>\n",
       "<table border=\"1\" class=\"dataframe\">\n",
       "  <thead>\n",
       "    <tr style=\"text-align: right;\">\n",
       "      <th></th>\n",
       "      <th>per-int</th>\n",
       "      <th>per-ele</th>\n",
       "    </tr>\n",
       "  </thead>\n",
       "  <tbody>\n",
       "    <tr>\n",
       "      <th>0</th>\n",
       "      <td>0.6875</td>\n",
       "      <td>0.6923</td>\n",
       "    </tr>\n",
       "    <tr>\n",
       "      <th>1</th>\n",
       "      <td>0.3428</td>\n",
       "      <td>0.4516</td>\n",
       "    </tr>\n",
       "    <tr>\n",
       "      <th>2</th>\n",
       "      <td>0.5600</td>\n",
       "      <td>0.5833</td>\n",
       "    </tr>\n",
       "    <tr>\n",
       "      <th>3</th>\n",
       "      <td>0.8000</td>\n",
       "      <td>0.2800</td>\n",
       "    </tr>\n",
       "    <tr>\n",
       "      <th>4</th>\n",
       "      <td>0.3760</td>\n",
       "      <td>0.2407</td>\n",
       "    </tr>\n",
       "  </tbody>\n",
       "</table>\n",
       "</div>"
      ],
      "text/plain": [
       "   per-int  per-ele\n",
       "0   0.6875   0.6923\n",
       "1   0.3428   0.4516\n",
       "2   0.5600   0.5833\n",
       "3   0.8000   0.2800\n",
       "4   0.3760   0.2407"
      ]
     },
     "execution_count": 20,
     "metadata": {},
     "output_type": "execute_result"
    }
   ],
   "source": [
    "df2= pd.read_excel('prec 2017+2022.xlsx')\n",
    "df2.head()"
   ]
  },
  {
   "cell_type": "code",
   "execution_count": 21,
   "id": "d8223cd9",
   "metadata": {},
   "outputs": [
    {
     "data": {
      "text/html": [
       "<div>\n",
       "<style scoped>\n",
       "    .dataframe tbody tr th:only-of-type {\n",
       "        vertical-align: middle;\n",
       "    }\n",
       "\n",
       "    .dataframe tbody tr th {\n",
       "        vertical-align: top;\n",
       "    }\n",
       "\n",
       "    .dataframe thead th {\n",
       "        text-align: right;\n",
       "    }\n",
       "</style>\n",
       "<table border=\"1\" class=\"dataframe\">\n",
       "  <thead>\n",
       "    <tr style=\"text-align: right;\">\n",
       "      <th></th>\n",
       "      <th>U-val</th>\n",
       "      <th>alternative</th>\n",
       "      <th>p-val</th>\n",
       "      <th>RBC</th>\n",
       "      <th>CLES</th>\n",
       "    </tr>\n",
       "  </thead>\n",
       "  <tbody>\n",
       "    <tr>\n",
       "      <th>MWU</th>\n",
       "      <td>186.0</td>\n",
       "      <td>two-sided</td>\n",
       "      <td>0.71489</td>\n",
       "      <td>0.07</td>\n",
       "      <td>0.465</td>\n",
       "    </tr>\n",
       "  </tbody>\n",
       "</table>\n",
       "</div>"
      ],
      "text/plain": [
       "     U-val alternative    p-val   RBC   CLES\n",
       "MWU  186.0   two-sided  0.71489  0.07  0.465"
      ]
     },
     "execution_count": 21,
     "metadata": {},
     "output_type": "execute_result"
    }
   ],
   "source": [
    "from pingouin import mwu\n",
    "mwu(df2['per-int'], df2['per-ele'])"
   ]
  },
  {
   "cell_type": "code",
   "execution_count": null,
   "id": "8ce7d562",
   "metadata": {},
   "outputs": [],
   "source": []
  },
  {
   "cell_type": "markdown",
   "id": "e072de04",
   "metadata": {},
   "source": [
    "# Boxplots for Precision"
   ]
  },
  {
   "cell_type": "code",
   "execution_count": 58,
   "id": "6f5254cb",
   "metadata": {},
   "outputs": [
    {
     "data": {
      "text/html": [
       "<div>\n",
       "<style scoped>\n",
       "    .dataframe tbody tr th:only-of-type {\n",
       "        vertical-align: middle;\n",
       "    }\n",
       "\n",
       "    .dataframe tbody tr th {\n",
       "        vertical-align: top;\n",
       "    }\n",
       "\n",
       "    .dataframe thead th {\n",
       "        text-align: right;\n",
       "    }\n",
       "</style>\n",
       "<table border=\"1\" class=\"dataframe\">\n",
       "  <thead>\n",
       "    <tr style=\"text-align: right;\">\n",
       "      <th></th>\n",
       "      <th>Category</th>\n",
       "      <th>TP(i)</th>\n",
       "      <th>FP(i)</th>\n",
       "      <th>TP(e)</th>\n",
       "      <th>FP(e)</th>\n",
       "      <th>prec(i)</th>\n",
       "      <th>prec(e)</th>\n",
       "    </tr>\n",
       "  </thead>\n",
       "  <tbody>\n",
       "    <tr>\n",
       "      <th>0</th>\n",
       "      <td>S</td>\n",
       "      <td>13.0</td>\n",
       "      <td>14.0</td>\n",
       "      <td>11.0</td>\n",
       "      <td>17.0</td>\n",
       "      <td>0.481481</td>\n",
       "      <td>0.392857</td>\n",
       "    </tr>\n",
       "    <tr>\n",
       "      <th>1</th>\n",
       "      <td>T</td>\n",
       "      <td>9.0</td>\n",
       "      <td>11.0</td>\n",
       "      <td>8.0</td>\n",
       "      <td>29.0</td>\n",
       "      <td>0.450000</td>\n",
       "      <td>0.216216</td>\n",
       "    </tr>\n",
       "    <tr>\n",
       "      <th>2</th>\n",
       "      <td>R</td>\n",
       "      <td>4.0</td>\n",
       "      <td>11.0</td>\n",
       "      <td>3.0</td>\n",
       "      <td>26.0</td>\n",
       "      <td>0.266667</td>\n",
       "      <td>0.103448</td>\n",
       "    </tr>\n",
       "    <tr>\n",
       "      <th>3</th>\n",
       "      <td>I</td>\n",
       "      <td>18.0</td>\n",
       "      <td>16.0</td>\n",
       "      <td>18.0</td>\n",
       "      <td>19.0</td>\n",
       "      <td>0.529412</td>\n",
       "      <td>0.486486</td>\n",
       "    </tr>\n",
       "    <tr>\n",
       "      <th>4</th>\n",
       "      <td>D</td>\n",
       "      <td>23.0</td>\n",
       "      <td>12.0</td>\n",
       "      <td>15.0</td>\n",
       "      <td>21.0</td>\n",
       "      <td>0.657143</td>\n",
       "      <td>0.416667</td>\n",
       "    </tr>\n",
       "    <tr>\n",
       "      <th>5</th>\n",
       "      <td>E</td>\n",
       "      <td>5.0</td>\n",
       "      <td>7.0</td>\n",
       "      <td>3.0</td>\n",
       "      <td>12.0</td>\n",
       "      <td>0.416667</td>\n",
       "      <td>0.200000</td>\n",
       "    </tr>\n",
       "    <tr>\n",
       "      <th>6</th>\n",
       "      <td>Group Av</td>\n",
       "      <td>NaN</td>\n",
       "      <td>NaN</td>\n",
       "      <td>NaN</td>\n",
       "      <td>NaN</td>\n",
       "      <td>0.466895</td>\n",
       "      <td>0.302612</td>\n",
       "    </tr>\n",
       "  </tbody>\n",
       "</table>\n",
       "</div>"
      ],
      "text/plain": [
       "   Category  TP(i)  FP(i)  TP(e)  FP(e)   prec(i)   prec(e)\n",
       "0         S   13.0   14.0   11.0   17.0  0.481481  0.392857\n",
       "1         T    9.0   11.0    8.0   29.0  0.450000  0.216216\n",
       "2         R    4.0   11.0    3.0   26.0  0.266667  0.103448\n",
       "3         I   18.0   16.0   18.0   19.0  0.529412  0.486486\n",
       "4         D   23.0   12.0   15.0   21.0  0.657143  0.416667\n",
       "5         E    5.0    7.0    3.0   12.0  0.416667  0.200000\n",
       "6  Group Av    NaN    NaN    NaN    NaN  0.466895  0.302612"
      ]
     },
     "execution_count": 58,
     "metadata": {},
     "output_type": "execute_result"
    }
   ],
   "source": [
    "df1= pd.read_excel('subplots threats.xlsx')\n",
    "df1"
   ]
  },
  {
   "cell_type": "code",
   "execution_count": 59,
   "id": "3bf5e523",
   "metadata": {},
   "outputs": [
    {
     "data": {
      "text/html": [
       "<div>\n",
       "<style scoped>\n",
       "    .dataframe tbody tr th:only-of-type {\n",
       "        vertical-align: middle;\n",
       "    }\n",
       "\n",
       "    .dataframe tbody tr th {\n",
       "        vertical-align: top;\n",
       "    }\n",
       "\n",
       "    .dataframe thead th {\n",
       "        text-align: right;\n",
       "    }\n",
       "</style>\n",
       "<table border=\"1\" class=\"dataframe\">\n",
       "  <thead>\n",
       "    <tr style=\"text-align: right;\">\n",
       "      <th></th>\n",
       "      <th>Category</th>\n",
       "      <th>TP(i)</th>\n",
       "      <th>FP(i)</th>\n",
       "      <th>TP(e)</th>\n",
       "      <th>FP(e)</th>\n",
       "      <th>prec(i)</th>\n",
       "      <th>prec(e)</th>\n",
       "    </tr>\n",
       "  </thead>\n",
       "  <tbody>\n",
       "    <tr>\n",
       "      <th>0</th>\n",
       "      <td>S</td>\n",
       "      <td>13.0</td>\n",
       "      <td>14.0</td>\n",
       "      <td>11.0</td>\n",
       "      <td>17.0</td>\n",
       "      <td>0.481481</td>\n",
       "      <td>0.392857</td>\n",
       "    </tr>\n",
       "    <tr>\n",
       "      <th>1</th>\n",
       "      <td>T</td>\n",
       "      <td>9.0</td>\n",
       "      <td>11.0</td>\n",
       "      <td>8.0</td>\n",
       "      <td>29.0</td>\n",
       "      <td>0.450000</td>\n",
       "      <td>0.216216</td>\n",
       "    </tr>\n",
       "    <tr>\n",
       "      <th>2</th>\n",
       "      <td>R</td>\n",
       "      <td>4.0</td>\n",
       "      <td>11.0</td>\n",
       "      <td>3.0</td>\n",
       "      <td>26.0</td>\n",
       "      <td>0.266667</td>\n",
       "      <td>0.103448</td>\n",
       "    </tr>\n",
       "    <tr>\n",
       "      <th>3</th>\n",
       "      <td>I</td>\n",
       "      <td>18.0</td>\n",
       "      <td>16.0</td>\n",
       "      <td>18.0</td>\n",
       "      <td>19.0</td>\n",
       "      <td>0.529412</td>\n",
       "      <td>0.486486</td>\n",
       "    </tr>\n",
       "    <tr>\n",
       "      <th>4</th>\n",
       "      <td>D</td>\n",
       "      <td>23.0</td>\n",
       "      <td>12.0</td>\n",
       "      <td>15.0</td>\n",
       "      <td>21.0</td>\n",
       "      <td>0.657143</td>\n",
       "      <td>0.416667</td>\n",
       "    </tr>\n",
       "    <tr>\n",
       "      <th>5</th>\n",
       "      <td>E</td>\n",
       "      <td>5.0</td>\n",
       "      <td>7.0</td>\n",
       "      <td>3.0</td>\n",
       "      <td>12.0</td>\n",
       "      <td>0.416667</td>\n",
       "      <td>0.200000</td>\n",
       "    </tr>\n",
       "    <tr>\n",
       "      <th>6</th>\n",
       "      <td>Group Av</td>\n",
       "      <td>0.0</td>\n",
       "      <td>0.0</td>\n",
       "      <td>0.0</td>\n",
       "      <td>0.0</td>\n",
       "      <td>0.466895</td>\n",
       "      <td>0.302612</td>\n",
       "    </tr>\n",
       "  </tbody>\n",
       "</table>\n",
       "</div>"
      ],
      "text/plain": [
       "   Category  TP(i)  FP(i)  TP(e)  FP(e)   prec(i)   prec(e)\n",
       "0         S   13.0   14.0   11.0   17.0  0.481481  0.392857\n",
       "1         T    9.0   11.0    8.0   29.0  0.450000  0.216216\n",
       "2         R    4.0   11.0    3.0   26.0  0.266667  0.103448\n",
       "3         I   18.0   16.0   18.0   19.0  0.529412  0.486486\n",
       "4         D   23.0   12.0   15.0   21.0  0.657143  0.416667\n",
       "5         E    5.0    7.0    3.0   12.0  0.416667  0.200000\n",
       "6  Group Av    0.0    0.0    0.0    0.0  0.466895  0.302612"
      ]
     },
     "execution_count": 59,
     "metadata": {},
     "output_type": "execute_result"
    }
   ],
   "source": [
    "df1.fillna(0,inplace=True)\n",
    "df1"
   ]
  },
  {
   "cell_type": "code",
   "execution_count": 75,
   "id": "f7d62b14",
   "metadata": {},
   "outputs": [
    {
     "data": {
      "image/png": "[encoded data removed]",
      "text/plain": [
       "<Figure size 432x288 with 1 Axes>"
      ]
     },
     "metadata": {
      "needs_background": "light"
     },
     "output_type": "display_data"
    }
   ],
   "source": [
    "import matplotlib.pyplot as plt\n",
    " \n",
    "S =[1,0.481481,0]\n",
    "T=[1,0.450000,0]\n",
    "R=[1,0.266667,0]\n",
    "I=[1,0.529412,0]\n",
    "D=[1,0.657143,0]\n",
    "E=[1,0.657143,0]\n",
    "Group_Prec=[1,0.466895,0]\n",
    " \n",
    "box_plot_data=[S,T,R,I,D,E,Group_Prec]\n",
    "plt.boxplot(box_plot_data,patch_artist=True,labels=['S','T','R','I','D','E', 'Group_Prec'])\n",
    "plt.axvline(x = 6.5, color = 'black', linestyle ='dotted',label = 'axvline - full height')\n",
    "plt.title('Precision per Threat Category (Interaction)')\n",
    "plt.show()"
   ]
  },
  {
   "cell_type": "code",
   "execution_count": 74,
   "id": "8c58e9f9",
   "metadata": {},
   "outputs": [
    {
     "data": {
      "image/png": "[encoded data removed]",
      "text/plain": [
       "<Figure size 432x288 with 1 Axes>"
      ]
     },
     "metadata": {
      "needs_background": "light"
     },
     "output_type": "display_data"
    }
   ],
   "source": [
    "import matplotlib.pyplot as plt\n",
    " \n",
    "S =[1,0.392857,0]\n",
    "T=[1,0.216216,0]\n",
    "R=[1,0.103448,0]\n",
    "I=[1,0.486486,0]\n",
    "D=[1,0.416667,0]\n",
    "E=[1,0.200000,0]\n",
    "Group_Prec=[1,0.302612,0]\n",
    " \n",
    "box_plot_data=[S,T,R,I,D,E,Group_Prec]\n",
    "plt.boxplot(box_plot_data,patch_artist=True,labels=['S','T','R','I','D','E', 'Group_Prec'])\n",
    "plt.axvline(x = 6.5, color = 'black', linestyle ='dotted',label = 'axvline - full height')\n",
    "plt.title('Precision per Threat Category (Element)')\n",
    "plt.show()"
   ]
  },
  {
   "cell_type": "code",
   "execution_count": null,
   "id": "1696efc9",
   "metadata": {},
   "outputs": [],
   "source": []
  }
 ],
 "metadata": {
  "kernelspec": {
   "display_name": "Python 3 (ipykernel)",
   "language": "python",
   "name": "python3"
  },
  "language_info": {
   "codemirror_mode": {
    "name": "ipython",
    "version": 3
   },
   "file_extension": ".py",
   "mimetype": "text/x-python",
   "name": "python",
   "nbconvert_exporter": "python",
   "pygments_lexer": "ipython3",
   "version": "3.9.7"
  }
 },
 "nbformat": 4,
 "nbformat_minor": 5
}
